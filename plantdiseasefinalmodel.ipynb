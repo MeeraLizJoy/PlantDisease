{
 "cells": [
  {
   "cell_type": "code",
   "execution_count": 1,
   "id": "ce897fc1",
   "metadata": {
    "execution": {
     "iopub.execute_input": "2025-03-07T13:32:43.642733Z",
     "iopub.status.busy": "2025-03-07T13:32:43.642379Z",
     "iopub.status.idle": "2025-03-07T13:32:56.521527Z",
     "shell.execute_reply": "2025-03-07T13:32:56.520504Z"
    },
    "papermill": {
     "duration": 12.886884,
     "end_time": "2025-03-07T13:32:56.524204",
     "exception": false,
     "start_time": "2025-03-07T13:32:43.637320",
     "status": "completed"
    },
    "tags": []
   },
   "outputs": [
    {
     "name": "stdout",
     "output_type": "stream",
     "text": [
      "Collecting efficientnet\r\n",
      "  Downloading efficientnet-1.1.1-py3-none-any.whl.metadata (6.4 kB)\r\n",
      "Collecting keras-applications<=1.0.8,>=1.0.7 (from efficientnet)\r\n",
      "  Downloading Keras_Applications-1.0.8-py3-none-any.whl.metadata (1.7 kB)\r\n",
      "Requirement already satisfied: scikit-image in /usr/local/lib/python3.10/dist-packages (from efficientnet) (0.25.0)\r\n",
      "Requirement already satisfied: numpy>=1.9.1 in /usr/local/lib/python3.10/dist-packages (from keras-applications<=1.0.8,>=1.0.7->efficientnet) (1.26.4)\r\n",
      "Requirement already satisfied: h5py in /usr/local/lib/python3.10/dist-packages (from keras-applications<=1.0.8,>=1.0.7->efficientnet) (3.12.1)\r\n",
      "Requirement already satisfied: scipy>=1.11.2 in /usr/local/lib/python3.10/dist-packages (from scikit-image->efficientnet) (1.13.1)\r\n",
      "Requirement already satisfied: networkx>=3.0 in /usr/local/lib/python3.10/dist-packages (from scikit-image->efficientnet) (3.4.2)\r\n",
      "Requirement already satisfied: pillow>=10.1 in /usr/local/lib/python3.10/dist-packages (from scikit-image->efficientnet) (11.0.0)\r\n",
      "Requirement already satisfied: imageio!=2.35.0,>=2.33 in /usr/local/lib/python3.10/dist-packages (from scikit-image->efficientnet) (2.36.1)\r\n",
      "Requirement already satisfied: tifffile>=2022.8.12 in /usr/local/lib/python3.10/dist-packages (from scikit-image->efficientnet) (2024.12.12)\r\n",
      "Requirement already satisfied: packaging>=21 in /usr/local/lib/python3.10/dist-packages (from scikit-image->efficientnet) (24.2)\r\n",
      "Requirement already satisfied: lazy-loader>=0.4 in /usr/local/lib/python3.10/dist-packages (from scikit-image->efficientnet) (0.4)\r\n",
      "Requirement already satisfied: mkl_fft in /usr/local/lib/python3.10/dist-packages (from numpy>=1.9.1->keras-applications<=1.0.8,>=1.0.7->efficientnet) (1.3.8)\r\n",
      "Requirement already satisfied: mkl_random in /usr/local/lib/python3.10/dist-packages (from numpy>=1.9.1->keras-applications<=1.0.8,>=1.0.7->efficientnet) (1.2.4)\r\n",
      "Requirement already satisfied: mkl_umath in /usr/local/lib/python3.10/dist-packages (from numpy>=1.9.1->keras-applications<=1.0.8,>=1.0.7->efficientnet) (0.1.1)\r\n",
      "Requirement already satisfied: mkl in /usr/local/lib/python3.10/dist-packages (from numpy>=1.9.1->keras-applications<=1.0.8,>=1.0.7->efficientnet) (2025.0.1)\r\n",
      "Requirement already satisfied: tbb4py in /usr/local/lib/python3.10/dist-packages (from numpy>=1.9.1->keras-applications<=1.0.8,>=1.0.7->efficientnet) (2022.0.0)\r\n",
      "Requirement already satisfied: mkl-service in /usr/local/lib/python3.10/dist-packages (from numpy>=1.9.1->keras-applications<=1.0.8,>=1.0.7->efficientnet) (2.4.1)\r\n",
      "Requirement already satisfied: intel-openmp>=2024 in /usr/local/lib/python3.10/dist-packages (from mkl->numpy>=1.9.1->keras-applications<=1.0.8,>=1.0.7->efficientnet) (2024.2.0)\r\n",
      "Requirement already satisfied: tbb==2022.* in /usr/local/lib/python3.10/dist-packages (from mkl->numpy>=1.9.1->keras-applications<=1.0.8,>=1.0.7->efficientnet) (2022.0.0)\r\n",
      "Requirement already satisfied: tcmlib==1.* in /usr/local/lib/python3.10/dist-packages (from tbb==2022.*->mkl->numpy>=1.9.1->keras-applications<=1.0.8,>=1.0.7->efficientnet) (1.2.0)\r\n",
      "Requirement already satisfied: intel-cmplr-lib-rt in /usr/local/lib/python3.10/dist-packages (from mkl_umath->numpy>=1.9.1->keras-applications<=1.0.8,>=1.0.7->efficientnet) (2024.2.0)\r\n",
      "Requirement already satisfied: intel-cmplr-lib-ur==2024.2.0 in /usr/local/lib/python3.10/dist-packages (from intel-openmp>=2024->mkl->numpy>=1.9.1->keras-applications<=1.0.8,>=1.0.7->efficientnet) (2024.2.0)\r\n",
      "Downloading efficientnet-1.1.1-py3-none-any.whl (18 kB)\r\n",
      "Downloading Keras_Applications-1.0.8-py3-none-any.whl (50 kB)\r\n",
      "\u001b[2K   \u001b[90m━━━━━━━━━━━━━━━━━━━━━━━━━━━━━━━━━━━━━━━━\u001b[0m \u001b[32m50.7/50.7 kB\u001b[0m \u001b[31m1.8 MB/s\u001b[0m eta \u001b[36m0:00:00\u001b[0m\r\n",
      "\u001b[?25hInstalling collected packages: keras-applications, efficientnet\r\n",
      "Successfully installed efficientnet-1.1.1 keras-applications-1.0.8\r\n",
      "Requirement already satisfied: lime in /usr/local/lib/python3.10/dist-packages (0.2.0.1)\r\n",
      "Requirement already satisfied: matplotlib in /usr/local/lib/python3.10/dist-packages (from lime) (3.7.5)\r\n",
      "Requirement already satisfied: numpy in /usr/local/lib/python3.10/dist-packages (from lime) (1.26.4)\r\n",
      "Requirement already satisfied: scipy in /usr/local/lib/python3.10/dist-packages (from lime) (1.13.1)\r\n",
      "Requirement already satisfied: tqdm in /usr/local/lib/python3.10/dist-packages (from lime) (4.67.1)\r\n",
      "Requirement already satisfied: scikit-learn>=0.18 in /usr/local/lib/python3.10/dist-packages (from lime) (1.2.2)\r\n",
      "Requirement already satisfied: scikit-image>=0.12 in /usr/local/lib/python3.10/dist-packages (from lime) (0.25.0)\r\n",
      "Requirement already satisfied: networkx>=3.0 in /usr/local/lib/python3.10/dist-packages (from scikit-image>=0.12->lime) (3.4.2)\r\n",
      "Requirement already satisfied: pillow>=10.1 in /usr/local/lib/python3.10/dist-packages (from scikit-image>=0.12->lime) (11.0.0)\r\n",
      "Requirement already satisfied: imageio!=2.35.0,>=2.33 in /usr/local/lib/python3.10/dist-packages (from scikit-image>=0.12->lime) (2.36.1)\r\n",
      "Requirement already satisfied: tifffile>=2022.8.12 in /usr/local/lib/python3.10/dist-packages (from scikit-image>=0.12->lime) (2024.12.12)\r\n",
      "Requirement already satisfied: packaging>=21 in /usr/local/lib/python3.10/dist-packages (from scikit-image>=0.12->lime) (24.2)\r\n",
      "Requirement already satisfied: lazy-loader>=0.4 in /usr/local/lib/python3.10/dist-packages (from scikit-image>=0.12->lime) (0.4)\r\n",
      "Requirement already satisfied: mkl_fft in /usr/local/lib/python3.10/dist-packages (from numpy->lime) (1.3.8)\r\n",
      "Requirement already satisfied: mkl_random in /usr/local/lib/python3.10/dist-packages (from numpy->lime) (1.2.4)\r\n",
      "Requirement already satisfied: mkl_umath in /usr/local/lib/python3.10/dist-packages (from numpy->lime) (0.1.1)\r\n",
      "Requirement already satisfied: mkl in /usr/local/lib/python3.10/dist-packages (from numpy->lime) (2025.0.1)\r\n",
      "Requirement already satisfied: tbb4py in /usr/local/lib/python3.10/dist-packages (from numpy->lime) (2022.0.0)\r\n",
      "Requirement already satisfied: mkl-service in /usr/local/lib/python3.10/dist-packages (from numpy->lime) (2.4.1)\r\n",
      "Requirement already satisfied: joblib>=1.1.1 in /usr/local/lib/python3.10/dist-packages (from scikit-learn>=0.18->lime) (1.4.2)\r\n",
      "Requirement already satisfied: threadpoolctl>=2.0.0 in /usr/local/lib/python3.10/dist-packages (from scikit-learn>=0.18->lime) (3.5.0)\r\n",
      "Requirement already satisfied: contourpy>=1.0.1 in /usr/local/lib/python3.10/dist-packages (from matplotlib->lime) (1.3.1)\r\n",
      "Requirement already satisfied: cycler>=0.10 in /usr/local/lib/python3.10/dist-packages (from matplotlib->lime) (0.12.1)\r\n",
      "Requirement already satisfied: fonttools>=4.22.0 in /usr/local/lib/python3.10/dist-packages (from matplotlib->lime) (4.55.3)\r\n",
      "Requirement already satisfied: kiwisolver>=1.0.1 in /usr/local/lib/python3.10/dist-packages (from matplotlib->lime) (1.4.7)\r\n",
      "Requirement already satisfied: pyparsing>=2.3.1 in /usr/local/lib/python3.10/dist-packages (from matplotlib->lime) (3.2.0)\r\n",
      "Requirement already satisfied: python-dateutil>=2.7 in /usr/local/lib/python3.10/dist-packages (from matplotlib->lime) (2.9.0.post0)\r\n",
      "Requirement already satisfied: six>=1.5 in /usr/local/lib/python3.10/dist-packages (from python-dateutil>=2.7->matplotlib->lime) (1.17.0)\r\n",
      "Requirement already satisfied: intel-openmp>=2024 in /usr/local/lib/python3.10/dist-packages (from mkl->numpy->lime) (2024.2.0)\r\n",
      "Requirement already satisfied: tbb==2022.* in /usr/local/lib/python3.10/dist-packages (from mkl->numpy->lime) (2022.0.0)\r\n",
      "Requirement already satisfied: tcmlib==1.* in /usr/local/lib/python3.10/dist-packages (from tbb==2022.*->mkl->numpy->lime) (1.2.0)\r\n",
      "Requirement already satisfied: intel-cmplr-lib-rt in /usr/local/lib/python3.10/dist-packages (from mkl_umath->numpy->lime) (2024.2.0)\r\n",
      "Requirement already satisfied: intel-cmplr-lib-ur==2024.2.0 in /usr/local/lib/python3.10/dist-packages (from intel-openmp>=2024->mkl->numpy->lime) (2024.2.0)\r\n",
      "Requirement already satisfied: scikit-image in /usr/local/lib/python3.10/dist-packages (0.25.0)\r\n",
      "Requirement already satisfied: numpy>=1.24 in /usr/local/lib/python3.10/dist-packages (from scikit-image) (1.26.4)\r\n",
      "Requirement already satisfied: scipy>=1.11.2 in /usr/local/lib/python3.10/dist-packages (from scikit-image) (1.13.1)\r\n",
      "Requirement already satisfied: networkx>=3.0 in /usr/local/lib/python3.10/dist-packages (from scikit-image) (3.4.2)\r\n",
      "Requirement already satisfied: pillow>=10.1 in /usr/local/lib/python3.10/dist-packages (from scikit-image) (11.0.0)\r\n",
      "Requirement already satisfied: imageio!=2.35.0,>=2.33 in /usr/local/lib/python3.10/dist-packages (from scikit-image) (2.36.1)\r\n",
      "Requirement already satisfied: tifffile>=2022.8.12 in /usr/local/lib/python3.10/dist-packages (from scikit-image) (2024.12.12)\r\n",
      "Requirement already satisfied: packaging>=21 in /usr/local/lib/python3.10/dist-packages (from scikit-image) (24.2)\r\n",
      "Requirement already satisfied: lazy-loader>=0.4 in /usr/local/lib/python3.10/dist-packages (from scikit-image) (0.4)\r\n",
      "Requirement already satisfied: mkl_fft in /usr/local/lib/python3.10/dist-packages (from numpy>=1.24->scikit-image) (1.3.8)\r\n",
      "Requirement already satisfied: mkl_random in /usr/local/lib/python3.10/dist-packages (from numpy>=1.24->scikit-image) (1.2.4)\r\n",
      "Requirement already satisfied: mkl_umath in /usr/local/lib/python3.10/dist-packages (from numpy>=1.24->scikit-image) (0.1.1)\r\n",
      "Requirement already satisfied: mkl in /usr/local/lib/python3.10/dist-packages (from numpy>=1.24->scikit-image) (2025.0.1)\r\n",
      "Requirement already satisfied: tbb4py in /usr/local/lib/python3.10/dist-packages (from numpy>=1.24->scikit-image) (2022.0.0)\r\n",
      "Requirement already satisfied: mkl-service in /usr/local/lib/python3.10/dist-packages (from numpy>=1.24->scikit-image) (2.4.1)\r\n",
      "Requirement already satisfied: intel-openmp>=2024 in /usr/local/lib/python3.10/dist-packages (from mkl->numpy>=1.24->scikit-image) (2024.2.0)\r\n",
      "Requirement already satisfied: tbb==2022.* in /usr/local/lib/python3.10/dist-packages (from mkl->numpy>=1.24->scikit-image) (2022.0.0)\r\n",
      "Requirement already satisfied: tcmlib==1.* in /usr/local/lib/python3.10/dist-packages (from tbb==2022.*->mkl->numpy>=1.24->scikit-image) (1.2.0)\r\n",
      "Requirement already satisfied: intel-cmplr-lib-rt in /usr/local/lib/python3.10/dist-packages (from mkl_umath->numpy>=1.24->scikit-image) (2024.2.0)\r\n",
      "Requirement already satisfied: intel-cmplr-lib-ur==2024.2.0 in /usr/local/lib/python3.10/dist-packages (from intel-openmp>=2024->mkl->numpy>=1.24->scikit-image) (2024.2.0)\r\n"
     ]
    }
   ],
   "source": [
    "!pip install efficientnet\n",
    "!pip install lime\n",
    "!pip install scikit-image"
   ]
  },
  {
   "cell_type": "code",
   "execution_count": 2,
   "id": "5c224984",
   "metadata": {
    "execution": {
     "iopub.execute_input": "2025-03-07T13:32:56.533885Z",
     "iopub.status.busy": "2025-03-07T13:32:56.533579Z",
     "iopub.status.idle": "2025-03-07T13:33:10.369554Z",
     "shell.execute_reply": "2025-03-07T13:33:10.368439Z"
    },
    "papermill": {
     "duration": 13.842837,
     "end_time": "2025-03-07T13:33:10.371505",
     "exception": false,
     "start_time": "2025-03-07T13:32:56.528668",
     "status": "completed"
    },
    "tags": []
   },
   "outputs": [],
   "source": [
    "import os\n",
    "import pandas as pd\n",
    "import numpy as np\n",
    "from tensorflow.keras.preprocessing.image import ImageDataGenerator\n",
    "from tensorflow.keras import layers, models, optimizers\n",
    "import efficientnet.tfkeras as efn\n",
    "from tensorflow.keras.callbacks import EarlyStopping, ModelCheckpoint\n",
    "import matplotlib.pyplot as plt"
   ]
  },
  {
   "cell_type": "code",
   "execution_count": 3,
   "id": "587364b4",
   "metadata": {
    "execution": {
     "iopub.execute_input": "2025-03-07T13:33:10.381578Z",
     "iopub.status.busy": "2025-03-07T13:33:10.380967Z",
     "iopub.status.idle": "2025-03-07T13:33:10.385214Z",
     "shell.execute_reply": "2025-03-07T13:33:10.384252Z"
    },
    "papermill": {
     "duration": 0.010715,
     "end_time": "2025-03-07T13:33:10.386780",
     "exception": false,
     "start_time": "2025-03-07T13:33:10.376065",
     "status": "completed"
    },
    "tags": []
   },
   "outputs": [],
   "source": [
    "train_dir = '/kaggle/input/new-plant-diseases-dataset/New Plant Diseases Dataset(Augmented)/New Plant Diseases Dataset(Augmented)/train'\n",
    "valid_dir = '/kaggle/input/new-plant-diseases-dataset/New Plant Diseases Dataset(Augmented)/New Plant Diseases Dataset(Augmented)/valid'\n",
    "test_dir = '/kaggle/input/new-plant-diseases-dataset/test/test'"
   ]
  },
  {
   "cell_type": "code",
   "execution_count": 4,
   "id": "5655ad56",
   "metadata": {
    "execution": {
     "iopub.execute_input": "2025-03-07T13:33:10.395811Z",
     "iopub.status.busy": "2025-03-07T13:33:10.395516Z",
     "iopub.status.idle": "2025-03-07T13:33:18.436513Z",
     "shell.execute_reply": "2025-03-07T13:33:18.435548Z"
    },
    "papermill": {
     "duration": 8.047348,
     "end_time": "2025-03-07T13:33:18.438253",
     "exception": false,
     "start_time": "2025-03-07T13:33:10.390905",
     "status": "completed"
    },
    "tags": []
   },
   "outputs": [],
   "source": [
    "# Desired classes\n",
    "desired_plants = ['Apple', 'Corn', 'Grape', 'Potato', 'Tomato']\n",
    "\n",
    "# Collecting file paths and labels (with .DS_Store handling)\n",
    "def collect_data(directory):\n",
    "    filenames = []\n",
    "    labels = []\n",
    "    folds = os.listdir(directory)\n",
    "    for fold in folds:\n",
    "        if fold.startswith('.'):\n",
    "            continue\n",
    "        fold_path = os.path.join(directory, fold)\n",
    "        if os.path.isdir(fold_path):\n",
    "            files = os.listdir(fold_path)\n",
    "            for file in files:\n",
    "                if file.startswith('.'):\n",
    "                    continue\n",
    "                filepath = os.path.join(fold_path, file)\n",
    "                filenames.append(filepath)\n",
    "                labels.append(fold)\n",
    "    return filenames, labels\n",
    "\n",
    "filenames_train, label_train = collect_data(train_dir)\n",
    "filenames_valid, label_valid = collect_data(valid_dir)"
   ]
  },
  {
   "cell_type": "code",
   "execution_count": 5,
   "id": "735483e6",
   "metadata": {
    "execution": {
     "iopub.execute_input": "2025-03-07T13:33:18.446727Z",
     "iopub.status.busy": "2025-03-07T13:33:18.446487Z",
     "iopub.status.idle": "2025-03-07T13:33:18.554700Z",
     "shell.execute_reply": "2025-03-07T13:33:18.553547Z"
    },
    "papermill": {
     "duration": 0.114176,
     "end_time": "2025-03-07T13:33:18.556400",
     "exception": false,
     "start_time": "2025-03-07T13:33:18.442224",
     "status": "completed"
    },
    "tags": []
   },
   "outputs": [],
   "source": [
    "# DataFrames\n",
    "df_train = pd.DataFrame({'filename': filenames_train, 'label': label_train})\n",
    "df_valid = pd.DataFrame({'filename': filenames_valid, 'label': label_valid})\n",
    "\n",
    "# Filter DataFrames for desired classes\n",
    "df_train = df_train[df_train['label'].apply(lambda x: any(plant in x for plant in desired_plants))]\n",
    "df_valid = df_valid[df_valid['label'].apply(lambda x: any(plant in x for plant in desired_plants))]\n"
   ]
  },
  {
   "cell_type": "code",
   "execution_count": 6,
   "id": "eb8aa8eb",
   "metadata": {
    "execution": {
     "iopub.execute_input": "2025-03-07T13:33:18.564704Z",
     "iopub.status.busy": "2025-03-07T13:33:18.564423Z",
     "iopub.status.idle": "2025-03-07T13:34:47.157044Z",
     "shell.execute_reply": "2025-03-07T13:34:47.156382Z"
    },
    "papermill": {
     "duration": 88.598281,
     "end_time": "2025-03-07T13:34:47.158451",
     "exception": false,
     "start_time": "2025-03-07T13:33:18.560170",
     "status": "completed"
    },
    "tags": []
   },
   "outputs": [
    {
     "name": "stdout",
     "output_type": "stream",
     "text": [
      "Found 46356 validated image filenames belonging to 25 classes.\n",
      "Found 11588 validated image filenames belonging to 25 classes.\n"
     ]
    }
   ],
   "source": [
    "# Create ImageDataGenerator instances\n",
    "img_height, img_width = 224, 224\n",
    "batch_size = 32\n",
    "\n",
    "train_datagen = ImageDataGenerator(rescale=1./255)\n",
    "valid_datagen = ImageDataGenerator(rescale=1./255)\n",
    "\n",
    "# Create data generators\n",
    "train_generator = train_datagen.flow_from_dataframe(\n",
    "    dataframe=df_train,\n",
    "    x_col=\"filename\",\n",
    "    y_col=\"label\",\n",
    "    target_size=(img_height, img_width),\n",
    "    batch_size=batch_size,\n",
    "    class_mode=\"categorical\"\n",
    ")\n",
    "\n",
    "valid_generator = valid_datagen.flow_from_dataframe(\n",
    "    dataframe=df_valid,\n",
    "    x_col=\"filename\",\n",
    "    y_col=\"label\",\n",
    "    target_size=(img_height, img_width),\n",
    "    batch_size=batch_size,\n",
    "    class_mode=\"categorical\",\n",
    "    shuffle=False # Very important for evaluation.\n",
    ")\n"
   ]
  },
  {
   "cell_type": "code",
   "execution_count": 7,
   "id": "7e9bd152",
   "metadata": {
    "execution": {
     "iopub.execute_input": "2025-03-07T13:34:47.167081Z",
     "iopub.status.busy": "2025-03-07T13:34:47.166845Z",
     "iopub.status.idle": "2025-03-07T15:22:33.234896Z",
     "shell.execute_reply": "2025-03-07T15:22:33.233887Z"
    },
    "papermill": {
     "duration": 6469.615346,
     "end_time": "2025-03-07T15:22:36.777922",
     "exception": false,
     "start_time": "2025-03-07T13:34:47.162576",
     "status": "completed"
    },
    "tags": []
   },
   "outputs": [
    {
     "name": "stdout",
     "output_type": "stream",
     "text": [
      "Downloading data from https://github.com/Callidior/keras-applications/releases/download/efficientnet/efficientnet-b3_weights_tf_dim_ordering_tf_kernels_autoaugment_notop.h5\n",
      "\u001b[1m44107200/44107200\u001b[0m \u001b[32m━━━━━━━━━━━━━━━━━━━━\u001b[0m\u001b[37m\u001b[0m \u001b[1m0s\u001b[0m 0us/step\n",
      "Epoch 1/50\n"
     ]
    },
    {
     "name": "stderr",
     "output_type": "stream",
     "text": [
      "/usr/local/lib/python3.10/dist-packages/keras/src/trainers/data_adapters/py_dataset_adapter.py:122: UserWarning: Your `PyDataset` class should call `super().__init__(**kwargs)` in its constructor. `**kwargs` can include `workers`, `use_multiprocessing`, `max_queue_size`. Do not pass these arguments to `fit()`, as they will be ignored.\n",
      "  self._warn_if_super_not_called()\n"
     ]
    },
    {
     "name": "stdout",
     "output_type": "stream",
     "text": [
      "\u001b[1m1449/1449\u001b[0m \u001b[32m━━━━━━━━━━━━━━━━━━━━\u001b[0m\u001b[37m\u001b[0m \u001b[1m410s\u001b[0m 261ms/step - accuracy: 0.7198 - loss: 0.8937 - val_accuracy: 0.9155 - val_loss: 0.2428\n",
      "Epoch 2/50\n",
      "\u001b[1m1449/1449\u001b[0m \u001b[32m━━━━━━━━━━━━━━━━━━━━\u001b[0m\u001b[37m\u001b[0m \u001b[1m134s\u001b[0m 92ms/step - accuracy: 0.8685 - loss: 0.3867 - val_accuracy: 0.9369 - val_loss: 0.1865\n",
      "Epoch 3/50\n",
      "\u001b[1m1449/1449\u001b[0m \u001b[32m━━━━━━━━━━━━━━━━━━━━\u001b[0m\u001b[37m\u001b[0m \u001b[1m130s\u001b[0m 89ms/step - accuracy: 0.8827 - loss: 0.3412 - val_accuracy: 0.9298 - val_loss: 0.2035\n",
      "Epoch 4/50\n",
      "\u001b[1m1449/1449\u001b[0m \u001b[32m━━━━━━━━━━━━━━━━━━━━\u001b[0m\u001b[37m\u001b[0m \u001b[1m128s\u001b[0m 88ms/step - accuracy: 0.8941 - loss: 0.3110 - val_accuracy: 0.9411 - val_loss: 0.1648\n",
      "Epoch 5/50\n",
      "\u001b[1m1449/1449\u001b[0m \u001b[32m━━━━━━━━━━━━━━━━━━━━\u001b[0m\u001b[37m\u001b[0m \u001b[1m126s\u001b[0m 87ms/step - accuracy: 0.9004 - loss: 0.2900 - val_accuracy: 0.9428 - val_loss: 0.1668\n",
      "Epoch 6/50\n",
      "\u001b[1m1449/1449\u001b[0m \u001b[32m━━━━━━━━━━━━━━━━━━━━\u001b[0m\u001b[37m\u001b[0m \u001b[1m128s\u001b[0m 88ms/step - accuracy: 0.9049 - loss: 0.2853 - val_accuracy: 0.9436 - val_loss: 0.1644\n",
      "Epoch 7/50\n",
      "\u001b[1m1449/1449\u001b[0m \u001b[32m━━━━━━━━━━━━━━━━━━━━\u001b[0m\u001b[37m\u001b[0m \u001b[1m131s\u001b[0m 90ms/step - accuracy: 0.9094 - loss: 0.2654 - val_accuracy: 0.9603 - val_loss: 0.1197\n",
      "Epoch 8/50\n",
      "\u001b[1m1449/1449\u001b[0m \u001b[32m━━━━━━━━━━━━━━━━━━━━\u001b[0m\u001b[37m\u001b[0m \u001b[1m134s\u001b[0m 92ms/step - accuracy: 0.9161 - loss: 0.2557 - val_accuracy: 0.9606 - val_loss: 0.1167\n",
      "Epoch 9/50\n",
      "\u001b[1m1449/1449\u001b[0m \u001b[32m━━━━━━━━━━━━━━━━━━━━\u001b[0m\u001b[37m\u001b[0m \u001b[1m131s\u001b[0m 90ms/step - accuracy: 0.9164 - loss: 0.2533 - val_accuracy: 0.9608 - val_loss: 0.1206\n",
      "Epoch 10/50\n",
      "\u001b[1m1449/1449\u001b[0m \u001b[32m━━━━━━━━━━━━━━━━━━━━\u001b[0m\u001b[37m\u001b[0m \u001b[1m133s\u001b[0m 91ms/step - accuracy: 0.9194 - loss: 0.2429 - val_accuracy: 0.9580 - val_loss: 0.1204\n",
      "Epoch 11/50\n",
      "\u001b[1m1449/1449\u001b[0m \u001b[32m━━━━━━━━━━━━━━━━━━━━\u001b[0m\u001b[37m\u001b[0m \u001b[1m136s\u001b[0m 94ms/step - accuracy: 0.9214 - loss: 0.2412 - val_accuracy: 0.9555 - val_loss: 0.1298\n",
      "Epoch 12/50\n",
      "\u001b[1m1449/1449\u001b[0m \u001b[32m━━━━━━━━━━━━━━━━━━━━\u001b[0m\u001b[37m\u001b[0m \u001b[1m131s\u001b[0m 90ms/step - accuracy: 0.9230 - loss: 0.2321 - val_accuracy: 0.9578 - val_loss: 0.1260\n",
      "Epoch 13/50\n",
      "\u001b[1m1449/1449\u001b[0m \u001b[32m━━━━━━━━━━━━━━━━━━━━\u001b[0m\u001b[37m\u001b[0m \u001b[1m130s\u001b[0m 90ms/step - accuracy: 0.9262 - loss: 0.2287 - val_accuracy: 0.9669 - val_loss: 0.1028\n",
      "Epoch 14/50\n",
      "\u001b[1m1449/1449\u001b[0m \u001b[32m━━━━━━━━━━━━━━━━━━━━\u001b[0m\u001b[37m\u001b[0m \u001b[1m131s\u001b[0m 90ms/step - accuracy: 0.9277 - loss: 0.2198 - val_accuracy: 0.9613 - val_loss: 0.1178\n",
      "Epoch 15/50\n",
      "\u001b[1m1449/1449\u001b[0m \u001b[32m━━━━━━━━━━━━━━━━━━━━\u001b[0m\u001b[37m\u001b[0m \u001b[1m131s\u001b[0m 90ms/step - accuracy: 0.9320 - loss: 0.2110 - val_accuracy: 0.9651 - val_loss: 0.1060\n",
      "Epoch 16/50\n",
      "\u001b[1m1449/1449\u001b[0m \u001b[32m━━━━━━━━━━━━━━━━━━━━\u001b[0m\u001b[37m\u001b[0m \u001b[1m137s\u001b[0m 94ms/step - accuracy: 0.9293 - loss: 0.2043 - val_accuracy: 0.9680 - val_loss: 0.0991\n",
      "Epoch 17/50\n",
      "\u001b[1m1449/1449\u001b[0m \u001b[32m━━━━━━━━━━━━━━━━━━━━\u001b[0m\u001b[37m\u001b[0m \u001b[1m128s\u001b[0m 88ms/step - accuracy: 0.9330 - loss: 0.2025 - val_accuracy: 0.9658 - val_loss: 0.1081\n",
      "Epoch 18/50\n",
      "\u001b[1m1449/1449\u001b[0m \u001b[32m━━━━━━━━━━━━━━━━━━━━\u001b[0m\u001b[37m\u001b[0m \u001b[1m129s\u001b[0m 89ms/step - accuracy: 0.9301 - loss: 0.2125 - val_accuracy: 0.9651 - val_loss: 0.1054\n",
      "Epoch 19/50\n",
      "\u001b[1m1449/1449\u001b[0m \u001b[32m━━━━━━━━━━━━━━━━━━━━\u001b[0m\u001b[37m\u001b[0m \u001b[1m127s\u001b[0m 87ms/step - accuracy: 0.9330 - loss: 0.1979 - val_accuracy: 0.9686 - val_loss: 0.1004\n",
      "Epoch 20/50\n",
      "\u001b[1m1449/1449\u001b[0m \u001b[32m━━━━━━━━━━━━━━━━━━━━\u001b[0m\u001b[37m\u001b[0m \u001b[1m127s\u001b[0m 88ms/step - accuracy: 0.9327 - loss: 0.2052 - val_accuracy: 0.9698 - val_loss: 0.1008\n",
      "Epoch 21/50\n",
      "\u001b[1m1449/1449\u001b[0m \u001b[32m━━━━━━━━━━━━━━━━━━━━\u001b[0m\u001b[37m\u001b[0m \u001b[1m120s\u001b[0m 82ms/step - accuracy: 0.9371 - loss: 0.1942 - val_accuracy: 0.9671 - val_loss: 0.1157\n",
      "Epoch 22/50\n",
      "\u001b[1m1449/1449\u001b[0m \u001b[32m━━━━━━━━━━━━━━━━━━━━\u001b[0m\u001b[37m\u001b[0m \u001b[1m120s\u001b[0m 82ms/step - accuracy: 0.9343 - loss: 0.2023 - val_accuracy: 0.9689 - val_loss: 0.0995\n",
      "Epoch 23/50\n",
      "\u001b[1m1449/1449\u001b[0m \u001b[32m━━━━━━━━━━━━━━━━━━━━\u001b[0m\u001b[37m\u001b[0m \u001b[1m120s\u001b[0m 82ms/step - accuracy: 0.9389 - loss: 0.1918 - val_accuracy: 0.9664 - val_loss: 0.1131\n",
      "Epoch 24/50\n",
      "\u001b[1m1449/1449\u001b[0m \u001b[32m━━━━━━━━━━━━━━━━━━━━\u001b[0m\u001b[37m\u001b[0m \u001b[1m117s\u001b[0m 80ms/step - accuracy: 0.9370 - loss: 0.1966 - val_accuracy: 0.9673 - val_loss: 0.1001\n",
      "Epoch 25/50\n",
      "\u001b[1m1449/1449\u001b[0m \u001b[32m━━━━━━━━━━━━━━━━━━━━\u001b[0m\u001b[37m\u001b[0m \u001b[1m118s\u001b[0m 81ms/step - accuracy: 0.9398 - loss: 0.1881 - val_accuracy: 0.9701 - val_loss: 0.1042\n",
      "Epoch 26/50\n",
      "\u001b[1m1449/1449\u001b[0m \u001b[32m━━━━━━━━━━━━━━━━━━━━\u001b[0m\u001b[37m\u001b[0m \u001b[1m117s\u001b[0m 81ms/step - accuracy: 0.9412 - loss: 0.1916 - val_accuracy: 0.9705 - val_loss: 0.0981\n",
      "Epoch 27/50\n",
      "\u001b[1m1449/1449\u001b[0m \u001b[32m━━━━━━━━━━━━━━━━━━━━\u001b[0m\u001b[37m\u001b[0m \u001b[1m122s\u001b[0m 84ms/step - accuracy: 0.9419 - loss: 0.1825 - val_accuracy: 0.9720 - val_loss: 0.0942\n",
      "Epoch 28/50\n",
      "\u001b[1m1449/1449\u001b[0m \u001b[32m━━━━━━━━━━━━━━━━━━━━\u001b[0m\u001b[37m\u001b[0m \u001b[1m119s\u001b[0m 82ms/step - accuracy: 0.9412 - loss: 0.1867 - val_accuracy: 0.9727 - val_loss: 0.0944\n",
      "Epoch 29/50\n",
      "\u001b[1m1449/1449\u001b[0m \u001b[32m━━━━━━━━━━━━━━━━━━━━\u001b[0m\u001b[37m\u001b[0m \u001b[1m114s\u001b[0m 79ms/step - accuracy: 0.9453 - loss: 0.1783 - val_accuracy: 0.9700 - val_loss: 0.1014\n",
      "Epoch 30/50\n",
      "\u001b[1m1449/1449\u001b[0m \u001b[32m━━━━━━━━━━━━━━━━━━━━\u001b[0m\u001b[37m\u001b[0m \u001b[1m114s\u001b[0m 78ms/step - accuracy: 0.9431 - loss: 0.1797 - val_accuracy: 0.9732 - val_loss: 0.0950\n",
      "Epoch 31/50\n",
      "\u001b[1m1449/1449\u001b[0m \u001b[32m━━━━━━━━━━━━━━━━━━━━\u001b[0m\u001b[37m\u001b[0m \u001b[1m115s\u001b[0m 79ms/step - accuracy: 0.9431 - loss: 0.1816 - val_accuracy: 0.9708 - val_loss: 0.0982\n",
      "Epoch 32/50\n",
      "\u001b[1m1449/1449\u001b[0m \u001b[32m━━━━━━━━━━━━━━━━━━━━\u001b[0m\u001b[37m\u001b[0m \u001b[1m118s\u001b[0m 81ms/step - accuracy: 0.9428 - loss: 0.1859 - val_accuracy: 0.9632 - val_loss: 0.1175\n",
      "Epoch 33/50\n",
      "\u001b[1m1449/1449\u001b[0m \u001b[32m━━━━━━━━━━━━━━━━━━━━\u001b[0m\u001b[37m\u001b[0m \u001b[1m123s\u001b[0m 85ms/step - accuracy: 0.9455 - loss: 0.1699 - val_accuracy: 0.9706 - val_loss: 0.1019\n",
      "Epoch 34/50\n",
      "\u001b[1m1449/1449\u001b[0m \u001b[32m━━━━━━━━━━━━━━━━━━━━\u001b[0m\u001b[37m\u001b[0m \u001b[1m131s\u001b[0m 90ms/step - accuracy: 0.9446 - loss: 0.1722 - val_accuracy: 0.9732 - val_loss: 0.0940\n",
      "Epoch 35/50\n",
      "\u001b[1m1449/1449\u001b[0m \u001b[32m━━━━━━━━━━━━━━━━━━━━\u001b[0m\u001b[37m\u001b[0m \u001b[1m126s\u001b[0m 86ms/step - accuracy: 0.9471 - loss: 0.1731 - val_accuracy: 0.9741 - val_loss: 0.0953\n",
      "Epoch 36/50\n",
      "\u001b[1m1449/1449\u001b[0m \u001b[32m━━━━━━━━━━━━━━━━━━━━\u001b[0m\u001b[37m\u001b[0m \u001b[1m125s\u001b[0m 86ms/step - accuracy: 0.9465 - loss: 0.1721 - val_accuracy: 0.9751 - val_loss: 0.0965\n",
      "Epoch 37/50\n",
      "\u001b[1m1449/1449\u001b[0m \u001b[32m━━━━━━━━━━━━━━━━━━━━\u001b[0m\u001b[37m\u001b[0m \u001b[1m120s\u001b[0m 82ms/step - accuracy: 0.9439 - loss: 0.1846 - val_accuracy: 0.9735 - val_loss: 0.0984\n",
      "Epoch 38/50\n",
      "\u001b[1m1449/1449\u001b[0m \u001b[32m━━━━━━━━━━━━━━━━━━━━\u001b[0m\u001b[37m\u001b[0m \u001b[1m126s\u001b[0m 87ms/step - accuracy: 0.9450 - loss: 0.1798 - val_accuracy: 0.9748 - val_loss: 0.0942\n",
      "Epoch 39/50\n",
      "\u001b[1m1449/1449\u001b[0m \u001b[32m━━━━━━━━━━━━━━━━━━━━\u001b[0m\u001b[37m\u001b[0m \u001b[1m125s\u001b[0m 86ms/step - accuracy: 0.9471 - loss: 0.1702 - val_accuracy: 0.9701 - val_loss: 0.1048\n",
      "Epoch 40/50\n",
      "\u001b[1m1449/1449\u001b[0m \u001b[32m━━━━━━━━━━━━━━━━━━━━\u001b[0m\u001b[37m\u001b[0m \u001b[1m124s\u001b[0m 85ms/step - accuracy: 0.9471 - loss: 0.1644 - val_accuracy: 0.9738 - val_loss: 0.0919\n",
      "Epoch 41/50\n",
      "\u001b[1m1449/1449\u001b[0m \u001b[32m━━━━━━━━━━━━━━━━━━━━\u001b[0m\u001b[37m\u001b[0m \u001b[1m117s\u001b[0m 80ms/step - accuracy: 0.9480 - loss: 0.1721 - val_accuracy: 0.9739 - val_loss: 0.0964\n",
      "Epoch 42/50\n",
      "\u001b[1m1449/1449\u001b[0m \u001b[32m━━━━━━━━━━━━━━━━━━━━\u001b[0m\u001b[37m\u001b[0m \u001b[1m116s\u001b[0m 80ms/step - accuracy: 0.9467 - loss: 0.1754 - val_accuracy: 0.9735 - val_loss: 0.0922\n",
      "Epoch 43/50\n",
      "\u001b[1m1449/1449\u001b[0m \u001b[32m━━━━━━━━━━━━━━━━━━━━\u001b[0m\u001b[37m\u001b[0m \u001b[1m117s\u001b[0m 80ms/step - accuracy: 0.9493 - loss: 0.1701 - val_accuracy: 0.9737 - val_loss: 0.0999\n",
      "Epoch 44/50\n",
      "\u001b[1m1449/1449\u001b[0m \u001b[32m━━━━━━━━━━━━━━━━━━━━\u001b[0m\u001b[37m\u001b[0m \u001b[1m115s\u001b[0m 79ms/step - accuracy: 0.9504 - loss: 0.1656 - val_accuracy: 0.9723 - val_loss: 0.0961\n",
      "Epoch 45/50\n",
      "\u001b[1m1449/1449\u001b[0m \u001b[32m━━━━━━━━━━━━━━━━━━━━\u001b[0m\u001b[37m\u001b[0m \u001b[1m117s\u001b[0m 81ms/step - accuracy: 0.9491 - loss: 0.1621 - val_accuracy: 0.9715 - val_loss: 0.1043\n",
      "Epoch 46/50\n",
      "\u001b[1m1449/1449\u001b[0m \u001b[32m━━━━━━━━━━━━━━━━━━━━\u001b[0m\u001b[37m\u001b[0m \u001b[1m112s\u001b[0m 77ms/step - accuracy: 0.9481 - loss: 0.1706 - val_accuracy: 0.9746 - val_loss: 0.0967\n",
      "Epoch 47/50\n",
      "\u001b[1m1449/1449\u001b[0m \u001b[32m━━━━━━━━━━━━━━━━━━━━\u001b[0m\u001b[37m\u001b[0m \u001b[1m115s\u001b[0m 79ms/step - accuracy: 0.9506 - loss: 0.1659 - val_accuracy: 0.9735 - val_loss: 0.0939\n",
      "Epoch 48/50\n",
      "\u001b[1m1449/1449\u001b[0m \u001b[32m━━━━━━━━━━━━━━━━━━━━\u001b[0m\u001b[37m\u001b[0m \u001b[1m117s\u001b[0m 80ms/step - accuracy: 0.9524 - loss: 0.1588 - val_accuracy: 0.9732 - val_loss: 0.0995\n",
      "Epoch 49/50\n",
      "\u001b[1m1449/1449\u001b[0m \u001b[32m━━━━━━━━━━━━━━━━━━━━\u001b[0m\u001b[37m\u001b[0m \u001b[1m119s\u001b[0m 81ms/step - accuracy: 0.9498 - loss: 0.1650 - val_accuracy: 0.9763 - val_loss: 0.0901\n",
      "Epoch 50/50\n",
      "\u001b[1m1449/1449\u001b[0m \u001b[32m━━━━━━━━━━━━━━━━━━━━\u001b[0m\u001b[37m\u001b[0m \u001b[1m111s\u001b[0m 76ms/step - accuracy: 0.9515 - loss: 0.1621 - val_accuracy: 0.9732 - val_loss: 0.0978\n"
     ]
    }
   ],
   "source": [
    "# Build and train your model\n",
    "num_classes = len(train_generator.class_indices)\n",
    "base_model = efn.EfficientNetB3(weights='imagenet', include_top=False, input_shape=(img_height, img_width, 3))\n",
    "base_model.trainable = False\n",
    "\n",
    "model = models.Sequential([\n",
    "    base_model,\n",
    "    layers.GlobalAveragePooling2D(),\n",
    "    layers.Dense(1024, activation='relu'),\n",
    "    layers.Dropout(0.5),\n",
    "    layers.Dense(num_classes, activation='softmax')\n",
    "])\n",
    "\n",
    "model.compile(optimizer=optimizers.Adam(learning_rate=0.001),\n",
    "              loss='categorical_crossentropy',\n",
    "              metrics=['accuracy'])\n",
    "\n",
    "early_stopping = EarlyStopping(monitor='val_loss', patience=10, restore_best_weights=True)\n",
    "model_checkpoint = ModelCheckpoint('plant_disease_model.keras', save_best_only=True)\n",
    "\n",
    "epochs = 50\n",
    "history = model.fit(\n",
    "    train_generator,\n",
    "    epochs=epochs,\n",
    "    validation_data=valid_generator,\n",
    "    callbacks=[early_stopping, model_checkpoint]\n",
    ")"
   ]
  },
  {
   "cell_type": "code",
   "execution_count": 8,
   "id": "36dde6f0",
   "metadata": {
    "execution": {
     "iopub.execute_input": "2025-03-07T15:22:44.210792Z",
     "iopub.status.busy": "2025-03-07T15:22:44.210346Z",
     "iopub.status.idle": "2025-03-07T15:23:22.666206Z",
     "shell.execute_reply": "2025-03-07T15:23:22.665104Z"
    },
    "papermill": {
     "duration": 42.240393,
     "end_time": "2025-03-07T15:23:22.667873",
     "exception": false,
     "start_time": "2025-03-07T15:22:40.427480",
     "status": "completed"
    },
    "tags": []
   },
   "outputs": [
    {
     "name": "stdout",
     "output_type": "stream",
     "text": [
      "\u001b[1m363/363\u001b[0m \u001b[32m━━━━━━━━━━━━━━━━━━━━\u001b[0m\u001b[37m\u001b[0m \u001b[1m35s\u001b[0m 79ms/step\n",
      "Accuracy of the saved model: 0.9763\n",
      "Classification Report:\n",
      "                                                     precision    recall  f1-score   support\n",
      "\n",
      "                                Apple___Apple_scab       0.99      1.00      1.00       504\n",
      "                                 Apple___Black_rot       0.99      1.00      0.99       497\n",
      "                          Apple___Cedar_apple_rust       1.00      1.00      1.00       440\n",
      "                                   Apple___healthy       1.00      1.00      1.00       502\n",
      "Corn_(maize)___Cercospora_leaf_spot Gray_leaf_spot       0.97      0.93      0.95       410\n",
      "                       Corn_(maize)___Common_rust_       1.00      1.00      1.00       477\n",
      "               Corn_(maize)___Northern_Leaf_Blight       0.95      0.97      0.96       477\n",
      "                            Corn_(maize)___healthy       1.00      1.00      1.00       465\n",
      "                                 Grape___Black_rot       0.97      0.99      0.98       472\n",
      "                      Grape___Esca_(Black_Measles)       0.99      0.97      0.98       480\n",
      "        Grape___Leaf_blight_(Isariopsis_Leaf_Spot)       1.00      1.00      1.00       430\n",
      "                                   Grape___healthy       1.00      1.00      1.00       423\n",
      "                             Potato___Early_blight       0.99      0.99      0.99       485\n",
      "                              Potato___Late_blight       0.98      0.99      0.98       485\n",
      "                                  Potato___healthy       1.00      0.99      0.99       456\n",
      "                           Tomato___Bacterial_spot       0.97      0.97      0.97       425\n",
      "                             Tomato___Early_blight       0.98      0.89      0.93       480\n",
      "                              Tomato___Late_blight       0.97      0.95      0.96       463\n",
      "                                Tomato___Leaf_Mold       0.99      0.97      0.98       470\n",
      "                       Tomato___Septoria_leaf_spot       0.93      0.95      0.94       436\n",
      "     Tomato___Spider_mites Two-spotted_spider_mite       0.92      0.96      0.94       435\n",
      "                              Tomato___Target_Spot       0.87      0.93      0.90       457\n",
      "            Tomato___Tomato_Yellow_Leaf_Curl_Virus       0.99      0.99      0.99       490\n",
      "                      Tomato___Tomato_mosaic_virus       1.00      0.99      0.99       448\n",
      "                                  Tomato___healthy       0.98      0.97      0.97       481\n",
      "\n",
      "                                          accuracy                           0.98     11588\n",
      "                                         macro avg       0.98      0.98      0.98     11588\n",
      "                                      weighted avg       0.98      0.98      0.98     11588\n",
      "\n"
     ]
    }
   ],
   "source": [
    "from sklearn.metrics import accuracy_score, classification_report\n",
    "\n",
    "# Load the saved model\n",
    "model = models.load_model('plant_disease_model.keras')\n",
    "\n",
    "# Make predictions\n",
    "predictions = model.predict(valid_generator)\n",
    "predicted_labels = np.argmax(predictions, axis=1)\n",
    "\n",
    "# Get true labels\n",
    "true_labels = valid_generator.classes\n",
    "\n",
    "# Calculate accuracy\n",
    "accuracy = accuracy_score(true_labels, predicted_labels)\n",
    "print(f\"Accuracy of the saved model: {accuracy:.4f}\")\n",
    "\n",
    "# Generate classification report\n",
    "class_names = list(valid_generator.class_indices.keys())\n",
    "report = classification_report(true_labels, predicted_labels, target_names=class_names)\n",
    "print(\"Classification Report:\\n\", report)"
   ]
  },
  {
   "cell_type": "code",
   "execution_count": 9,
   "id": "5b898c60",
   "metadata": {
    "execution": {
     "iopub.execute_input": "2025-03-07T15:23:30.135435Z",
     "iopub.status.busy": "2025-03-07T15:23:30.134854Z",
     "iopub.status.idle": "2025-03-07T15:23:30.544977Z",
     "shell.execute_reply": "2025-03-07T15:23:30.544106Z"
    },
    "papermill": {
     "duration": 4.082726,
     "end_time": "2025-03-07T15:23:30.546568",
     "exception": false,
     "start_time": "2025-03-07T15:23:26.463842",
     "status": "completed"
    },
    "tags": []
   },
   "outputs": [
    {
     "data": {
      "image/png": "[encoded data removed]",
      "text/plain": [
       "<Figure size 1200x500 with 2 Axes>"
      ]
     },
     "metadata": {},
     "output_type": "display_data"
    }
   ],
   "source": [
    "import matplotlib.pyplot as plt\n",
    "\n",
    "# Plot training metrics\n",
    "history_dict = history.history\n",
    "loss_values = history_dict['loss']\n",
    "val_loss_values = history_dict['val_loss']\n",
    "accuracy_values = history_dict['accuracy']\n",
    "val_accuracy_values = history_dict['val_accuracy']\n",
    "epochs = range(1, len(loss_values) + 1)\n",
    "\n",
    "plt.figure(figsize=(12, 5))\n",
    "plt.subplot(1, 2, 1)\n",
    "plt.plot(epochs, loss_values, 'b-', label='Training Loss')\n",
    "plt.plot(epochs, val_loss_values, 'r-', label='Validation Loss')\n",
    "plt.title('Training and Validation Loss')\n",
    "plt.xlabel('Epochs')\n",
    "plt.ylabel('Loss')\n",
    "plt.legend()\n",
    "\n",
    "plt.subplot(1, 2, 2)\n",
    "plt.plot(epochs, accuracy_values, 'b-', label='Training Accuracy')\n",
    "plt.plot(epochs, val_accuracy_values, 'r-', label='Validation Accuracy')\n",
    "plt.title('Training and Validation Accuracy')\n",
    "plt.xlabel('Epochs')\n",
    "plt.ylabel('Accuracy')\n",
    "plt.legend()\n",
    "\n",
    "plt.show()"
   ]
  },
  {
   "cell_type": "code",
   "execution_count": null,
   "id": "6003b678",
   "metadata": {
    "papermill": {
     "duration": 3.784208,
     "end_time": "2025-03-07T15:23:38.089375",
     "exception": false,
     "start_time": "2025-03-07T15:23:34.305167",
     "status": "completed"
    },
    "tags": []
   },
   "outputs": [],
   "source": []
  },
  {
   "cell_type": "code",
   "execution_count": null,
   "id": "df01ffc8",
   "metadata": {
    "papermill": {
     "duration": 3.770326,
     "end_time": "2025-03-07T15:23:45.608502",
     "exception": false,
     "start_time": "2025-03-07T15:23:41.838176",
     "status": "completed"
    },
    "tags": []
   },
   "outputs": [],
   "source": []
  },
  {
   "cell_type": "code",
   "execution_count": null,
   "id": "ac8c82ad",
   "metadata": {
    "papermill": {
     "duration": 3.653203,
     "end_time": "2025-03-07T15:23:53.212576",
     "exception": false,
     "start_time": "2025-03-07T15:23:49.559373",
     "status": "completed"
    },
    "tags": []
   },
   "outputs": [],
   "source": []
  },
  {
   "cell_type": "code",
   "execution_count": null,
   "id": "131dbb0f",
   "metadata": {
    "papermill": {
     "duration": 3.705375,
     "end_time": "2025-03-07T15:24:00.835573",
     "exception": false,
     "start_time": "2025-03-07T15:23:57.130198",
     "status": "completed"
    },
    "tags": []
   },
   "outputs": [],
   "source": []
  },
  {
   "cell_type": "code",
   "execution_count": null,
   "id": "df0a4ac8",
   "metadata": {
    "papermill": {
     "duration": 3.823426,
     "end_time": "2025-03-07T15:24:08.484141",
     "exception": false,
     "start_time": "2025-03-07T15:24:04.660715",
     "status": "completed"
    },
    "tags": []
   },
   "outputs": [],
   "source": []
  }
 ],
 "metadata": {
  "kaggle": {
   "accelerator": "gpu",
   "dataSources": [
    {
     "datasetId": 78313,
     "sourceId": 182633,
     "sourceType": "datasetVersion"
    }
   ],
   "dockerImageVersionId": 30918,
   "isGpuEnabled": true,
   "isInternetEnabled": true,
   "language": "python",
   "sourceType": "notebook"
  },
  "kernelspec": {
   "display_name": "Python 3",
   "language": "python",
   "name": "python3"
  },
  "language_info": {
   "codemirror_mode": {
    "name": "ipython",
    "version": 3
   },
   "file_extension": ".py",
   "mimetype": "text/x-python",
   "name": "python",
   "nbconvert_exporter": "python",
   "pygments_lexer": "ipython3",
   "version": "3.10.12"
  },
  "papermill": {
   "default_parameters": {},
   "duration": 6696.492373,
   "end_time": "2025-03-07T15:24:17.230150",
   "environment_variables": {},
   "exception": null,
   "input_path": "__notebook__.ipynb",
   "output_path": "__notebook__.ipynb",
   "parameters": {},
   "start_time": "2025-03-07T13:32:40.737777",
   "version": "2.6.0"
  }
 },
 "nbformat": 4,
 "nbformat_minor": 5
}
